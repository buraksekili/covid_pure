{
 "cells": [
  {
   "cell_type": "code",
   "execution_count": 3,
   "metadata": {},
   "outputs": [],
   "source": [
    "import pandas as pd\n",
    "import numpy as np\n",
    "import matplotlib.pyplot as plt"
   ]
  },
  {
   "cell_type": "code",
   "execution_count": 27,
   "metadata": {},
   "outputs": [
    {
     "data": {
      "text/plain": [
       "(26674, 18)"
      ]
     },
     "execution_count": 27,
     "metadata": {},
     "output_type": "execute_result"
    }
   ],
   "source": [
    "data_dict = pd.read_csv(\"data_dictionary.csv\")\n",
    "observation = pd.read_csv(\"C:\\\\Users\\\\ASUS\\\\Desktop\\\\covid_pure\\\\training\\\\observation.csv\")\n",
    "gs = pd.read_csv(\"C:\\\\Users\\\\ASUS\\\\Desktop\\\\covid_pure\\\\training\\\\goldstandard.csv\")\n",
    "observation.shape"
   ]
  },
  {
   "cell_type": "code",
   "execution_count": 28,
   "metadata": {},
   "outputs": [
    {
     "name": "stdout",
     "output_type": "stream",
     "text": [
      "Dropped  ['qualifier_concept_id', 'provider_id', 'visit_occurrence_id', 'visit_detail_id', 'observation_source_value', 'qualifier_source_value']\n"
     ]
    }
   ],
   "source": [
    "drop_columns = [c for c in observation.columns if observation[c].isnull().sum() >=  observation.shape[0]]\n",
    "observation = observation.drop(columns=drop_columns)\n",
    "print(\"Dropped \", drop_columns)\n"
   ]
  },
  {
   "cell_type": "code",
   "execution_count": 29,
   "metadata": {},
   "outputs": [
    {
     "name": "stdout",
     "output_type": "stream",
     "text": [
      "Int64Index([37208405, 4005823, 4196147, 3003798, 1009229], dtype='int64')\n",
      "{37208405: 'History of alcohol use', 4005823: 'Tobacco user', 4196147: 'Peripheral oxygen saturation', 3003798: 'Blood pressure method', 1009229: 'Cardiac rhythm'}\n"
     ]
    }
   ],
   "source": [
    "observations = observation['observation_concept_id'].value_counts().index\n",
    "print(observations)\n",
    "d = {}\n",
    "for obs in observations:\n",
    "    value = data_dict[data_dict['concept_id'] == obs].concept_name.values[0]\n",
    "    d[obs] = value\n",
    "\n",
    "#observation['observation_concept_id'] = observation['observation_concept_id'].map(d)\n",
    "print(d)"
   ]
  },
  {
   "cell_type": "code",
   "execution_count": 30,
   "metadata": {},
   "outputs": [],
   "source": [
    "observation['observation_concept_id'] = observation['observation_concept_id'].map(d)"
   ]
  },
  {
   "cell_type": "code",
   "execution_count": null,
   "metadata": {},
   "outputs": [],
   "source": [
    "observation[observation['person_id'] == 1]"
   ]
  },
  {
   "cell_type": "markdown",
   "metadata": {},
   "source": [
    "Kenarları "
   ]
  },
  {
   "cell_type": "code",
   "execution_count": 32,
   "metadata": {},
   "outputs": [
    {
     "data": {
      "text/html": [
       "<div>\n",
       "<style scoped>\n",
       "    .dataframe tbody tr th:only-of-type {\n",
       "        vertical-align: middle;\n",
       "    }\n",
       "\n",
       "    .dataframe tbody tr th {\n",
       "        vertical-align: top;\n",
       "    }\n",
       "\n",
       "    .dataframe thead th {\n",
       "        text-align: right;\n",
       "    }\n",
       "</style>\n",
       "<table border=\"1\" class=\"dataframe\">\n",
       "  <thead>\n",
       "    <tr style=\"text-align: right;\">\n",
       "      <th></th>\n",
       "      <th>person_id</th>\n",
       "      <th>observation_concept_id</th>\n",
       "      <th>value_as_number</th>\n",
       "      <th>value_as_string</th>\n",
       "      <th>new_col</th>\n",
       "    </tr>\n",
       "  </thead>\n",
       "  <tbody>\n",
       "    <tr>\n",
       "      <th>0</th>\n",
       "      <td>0</td>\n",
       "      <td>Blood pressure method</td>\n",
       "      <td>NaN</td>\n",
       "      <td>False</td>\n",
       "      <td>0</td>\n",
       "    </tr>\n",
       "    <tr>\n",
       "      <th>1</th>\n",
       "      <td>0</td>\n",
       "      <td>History of alcohol use</td>\n",
       "      <td>NaN</td>\n",
       "      <td>[True, False, False, True, False, True, False,...</td>\n",
       "      <td>6</td>\n",
       "    </tr>\n",
       "    <tr>\n",
       "      <th>2</th>\n",
       "      <td>0</td>\n",
       "      <td>Peripheral oxygen saturation</td>\n",
       "      <td>98.5</td>\n",
       "      <td>[False, False]</td>\n",
       "      <td>0</td>\n",
       "    </tr>\n",
       "    <tr>\n",
       "      <th>3</th>\n",
       "      <td>0</td>\n",
       "      <td>Tobacco user</td>\n",
       "      <td>NaN</td>\n",
       "      <td>[True, False, False, False, False]</td>\n",
       "      <td>1</td>\n",
       "    </tr>\n",
       "    <tr>\n",
       "      <th>4</th>\n",
       "      <td>1</td>\n",
       "      <td>Blood pressure method</td>\n",
       "      <td>NaN</td>\n",
       "      <td>False</td>\n",
       "      <td>0</td>\n",
       "    </tr>\n",
       "  </tbody>\n",
       "</table>\n",
       "</div>"
      ],
      "text/plain": [
       "   person_id        observation_concept_id  value_as_number  \\\n",
       "0          0         Blood pressure method              NaN   \n",
       "1          0        History of alcohol use              NaN   \n",
       "2          0  Peripheral oxygen saturation             98.5   \n",
       "3          0                  Tobacco user              NaN   \n",
       "4          1         Blood pressure method              NaN   \n",
       "\n",
       "                                     value_as_string  new_col  \n",
       "0                                              False        0  \n",
       "1  [True, False, False, True, False, True, False,...        6  \n",
       "2                                     [False, False]        0  \n",
       "3                 [True, False, False, False, False]        1  \n",
       "4                                              False        0  "
      ]
     },
     "execution_count": 32,
     "metadata": {},
     "output_type": "execute_result"
    }
   ],
   "source": [
    "new_d = observation.groupby([\"person_id\", \"observation_concept_id\"]).agg({'value_as_number': \"mean\",\n",
    "                                                                  'value_as_string': lambda x: x==\"Yes\"}).reset_index()\n",
    "def new_col(row):\n",
    "    return np.sum(row)\n",
    "\n",
    "new_d['new_col'] = new_d['value_as_string'].apply(new_col)\n",
    "new_d.head()"
   ]
  },
  {
   "cell_type": "code",
   "execution_count": 44,
   "metadata": {},
   "outputs": [
    {
     "name": "stdout",
     "output_type": "stream",
     "text": [
      "[   0    1    2 ... 1248 1249 1250]\n"
     ]
    }
   ],
   "source": [
    "new_data = pd.DataFrame(columns=[\"person_id\", \"Blood\", \"Alcohol\", \"Oxygen\", \"Tobacco\", \"Cardiac\"])\n",
    "person_ids = new_d.person_id.unique()\n",
    "print(person_ids)\n",
    "for idx in person_ids:\n",
    "    d = {\n",
    "        \"person_id\": idx,\n",
    "        \"Blood\": np.nan,\n",
    "        \"Alcohol\":np.nan,\n",
    "        \"Oxygen\":np.nan,\n",
    "        \"Tobacco\":np.nan,\n",
    "        \"Cardiac\":np.nan\n",
    "    }\n",
    "    \n",
    "    sub_data = new_d[new_d['person_id'] == idx].reset_index(drop=True)\n",
    "    \n",
    "    for i, obs in enumerate(sub_data['observation_concept_id'].values):\n",
    "        \n",
    "        if obs==\"Blood pressure method\":\n",
    "            d[\"Blood\"] = sub_data.loc[i, \"value_as_number\"]\n",
    "        elif obs == \"History of alcohol use\":\n",
    "            d[\"Alcohol\"] = sub_data.loc[i, \"new_col\"]\n",
    "        elif obs == \"Peripheral oxygen saturation\":\n",
    "            d[\"Oxygen\"] = sub_data.loc[i, \"value_as_number\"]\n",
    "        elif obs == \"Tobacco user\":\n",
    "            d[\"Tobacco\"] = sub_data.loc[i, \"new_col\"]\n",
    "        else:\n",
    "            d[\"Cardiac\"] = sub_data.loc[i, \"value_as_number\"]\n",
    "        \n",
    "    new_data = new_data.append(d, ignore_index=True)"
   ]
  },
  {
   "cell_type": "code",
   "execution_count": 45,
   "metadata": {},
   "outputs": [],
   "source": [
    "new_data = new_data.merge(gs, on=\"person_id\")"
   ]
  },
  {
   "cell_type": "code",
   "execution_count": 56,
   "metadata": {},
   "outputs": [
    {
     "data": {
      "text/plain": [
       "<AxesSubplot:xlabel='status', ylabel='Oxygen'>"
      ]
     },
     "execution_count": 56,
     "metadata": {},
     "output_type": "execute_result"
    },
    {
     "data": {
      "image/png": "[encoded data removed]",
      "text/plain": [
       "<Figure size 432x288 with 1 Axes>"
      ]
     },
     "metadata": {
      "needs_background": "light"
     },
     "output_type": "display_data"
    }
   ],
   "source": [
    "import seaborn as sns\n",
    "sns.violinplot(data=new_data, x=\"status\", y=\"Oxygen\")"
   ]
  },
  {
   "cell_type": "code",
   "execution_count": 57,
   "metadata": {},
   "outputs": [
    {
     "data": {
      "text/plain": [
       "<AxesSubplot:xlabel='status', ylabel='Alcohol'>"
      ]
     },
     "execution_count": 57,
     "metadata": {},
     "output_type": "execute_result"
    },
    {
     "data": {
      "image/png": "[encoded data removed]",
      "text/plain": [
       "<Figure size 432x288 with 1 Axes>"
      ]
     },
     "metadata": {
      "needs_background": "light"
     },
     "output_type": "display_data"
    }
   ],
   "source": [
    "sns.violinplot(data=new_data, x=\"status\", y=\"Alcohol\")"
   ]
  },
  {
   "cell_type": "code",
   "execution_count": 49,
   "metadata": {},
   "outputs": [
    {
     "data": {
      "text/html": [
       "<div>\n",
       "<style scoped>\n",
       "    .dataframe tbody tr th:only-of-type {\n",
       "        vertical-align: middle;\n",
       "    }\n",
       "\n",
       "    .dataframe tbody tr th {\n",
       "        vertical-align: top;\n",
       "    }\n",
       "\n",
       "    .dataframe thead th {\n",
       "        text-align: right;\n",
       "    }\n",
       "</style>\n",
       "<table border=\"1\" class=\"dataframe\">\n",
       "  <thead>\n",
       "    <tr style=\"text-align: right;\">\n",
       "      <th></th>\n",
       "      <th>person_id</th>\n",
       "      <th>Blood</th>\n",
       "      <th>Alcohol</th>\n",
       "      <th>Oxygen</th>\n",
       "      <th>Tobacco</th>\n",
       "      <th>Cardiac</th>\n",
       "      <th>status</th>\n",
       "    </tr>\n",
       "  </thead>\n",
       "  <tbody>\n",
       "    <tr>\n",
       "      <th>92</th>\n",
       "      <td>92.0</td>\n",
       "      <td>NaN</td>\n",
       "      <td>17.0</td>\n",
       "      <td>97.666667</td>\n",
       "      <td>4.0</td>\n",
       "      <td>NaN</td>\n",
       "      <td>0.0</td>\n",
       "    </tr>\n",
       "    <tr>\n",
       "      <th>970</th>\n",
       "      <td>972.0</td>\n",
       "      <td>NaN</td>\n",
       "      <td>17.0</td>\n",
       "      <td>98.000000</td>\n",
       "      <td>1.0</td>\n",
       "      <td>NaN</td>\n",
       "      <td>0.0</td>\n",
       "    </tr>\n",
       "  </tbody>\n",
       "</table>\n",
       "</div>"
      ],
      "text/plain": [
       "     person_id  Blood  Alcohol     Oxygen  Tobacco  Cardiac  status\n",
       "92        92.0    NaN     17.0  97.666667      4.0      NaN     0.0\n",
       "970      972.0    NaN     17.0  98.000000      1.0      NaN     0.0"
      ]
     },
     "execution_count": 49,
     "metadata": {},
     "output_type": "execute_result"
    }
   ],
   "source": [
    "new_data[new_data[\"Alcohol\"] == 17]"
   ]
  },
  {
   "cell_type": "code",
   "execution_count": 51,
   "metadata": {},
   "outputs": [
    {
     "data": {
      "text/html": [
       "<div>\n",
       "<style scoped>\n",
       "    .dataframe tbody tr th:only-of-type {\n",
       "        vertical-align: middle;\n",
       "    }\n",
       "\n",
       "    .dataframe tbody tr th {\n",
       "        vertical-align: top;\n",
       "    }\n",
       "\n",
       "    .dataframe thead th {\n",
       "        text-align: right;\n",
       "    }\n",
       "</style>\n",
       "<table border=\"1\" class=\"dataframe\">\n",
       "  <thead>\n",
       "    <tr style=\"text-align: right;\">\n",
       "      <th></th>\n",
       "      <th>person_id</th>\n",
       "      <th>Blood</th>\n",
       "      <th>Alcohol</th>\n",
       "      <th>Oxygen</th>\n",
       "      <th>Tobacco</th>\n",
       "      <th>Cardiac</th>\n",
       "      <th>status</th>\n",
       "    </tr>\n",
       "  </thead>\n",
       "  <tbody>\n",
       "    <tr>\n",
       "      <th>person_id</th>\n",
       "      <td>1.000000</td>\n",
       "      <td>NaN</td>\n",
       "      <td>-0.035043</td>\n",
       "      <td>-0.013202</td>\n",
       "      <td>-0.041743</td>\n",
       "      <td>NaN</td>\n",
       "      <td>0.013758</td>\n",
       "    </tr>\n",
       "    <tr>\n",
       "      <th>Blood</th>\n",
       "      <td>NaN</td>\n",
       "      <td>NaN</td>\n",
       "      <td>NaN</td>\n",
       "      <td>NaN</td>\n",
       "      <td>NaN</td>\n",
       "      <td>NaN</td>\n",
       "      <td>NaN</td>\n",
       "    </tr>\n",
       "    <tr>\n",
       "      <th>Alcohol</th>\n",
       "      <td>-0.035043</td>\n",
       "      <td>NaN</td>\n",
       "      <td>1.000000</td>\n",
       "      <td>-0.008577</td>\n",
       "      <td>0.014332</td>\n",
       "      <td>NaN</td>\n",
       "      <td>0.002925</td>\n",
       "    </tr>\n",
       "    <tr>\n",
       "      <th>Oxygen</th>\n",
       "      <td>-0.013202</td>\n",
       "      <td>NaN</td>\n",
       "      <td>-0.008577</td>\n",
       "      <td>1.000000</td>\n",
       "      <td>0.054908</td>\n",
       "      <td>NaN</td>\n",
       "      <td>-0.012620</td>\n",
       "    </tr>\n",
       "    <tr>\n",
       "      <th>Tobacco</th>\n",
       "      <td>-0.041743</td>\n",
       "      <td>NaN</td>\n",
       "      <td>0.014332</td>\n",
       "      <td>0.054908</td>\n",
       "      <td>1.000000</td>\n",
       "      <td>NaN</td>\n",
       "      <td>-0.065955</td>\n",
       "    </tr>\n",
       "    <tr>\n",
       "      <th>Cardiac</th>\n",
       "      <td>NaN</td>\n",
       "      <td>NaN</td>\n",
       "      <td>NaN</td>\n",
       "      <td>NaN</td>\n",
       "      <td>NaN</td>\n",
       "      <td>NaN</td>\n",
       "      <td>NaN</td>\n",
       "    </tr>\n",
       "    <tr>\n",
       "      <th>status</th>\n",
       "      <td>0.013758</td>\n",
       "      <td>NaN</td>\n",
       "      <td>0.002925</td>\n",
       "      <td>-0.012620</td>\n",
       "      <td>-0.065955</td>\n",
       "      <td>NaN</td>\n",
       "      <td>1.000000</td>\n",
       "    </tr>\n",
       "  </tbody>\n",
       "</table>\n",
       "</div>"
      ],
      "text/plain": [
       "           person_id  Blood   Alcohol    Oxygen   Tobacco  Cardiac    status\n",
       "person_id   1.000000    NaN -0.035043 -0.013202 -0.041743      NaN  0.013758\n",
       "Blood            NaN    NaN       NaN       NaN       NaN      NaN       NaN\n",
       "Alcohol    -0.035043    NaN  1.000000 -0.008577  0.014332      NaN  0.002925\n",
       "Oxygen     -0.013202    NaN -0.008577  1.000000  0.054908      NaN -0.012620\n",
       "Tobacco    -0.041743    NaN  0.014332  0.054908  1.000000      NaN -0.065955\n",
       "Cardiac          NaN    NaN       NaN       NaN       NaN      NaN       NaN\n",
       "status      0.013758    NaN  0.002925 -0.012620 -0.065955      NaN  1.000000"
      ]
     },
     "execution_count": 51,
     "metadata": {},
     "output_type": "execute_result"
    }
   ],
   "source": [
    "new_data.corr()"
   ]
  },
  {
   "cell_type": "code",
   "execution_count": 35,
   "metadata": {},
   "outputs": [
    {
     "data": {
      "text/plain": [
       "1    465\n",
       "2    267\n",
       "0    253\n",
       "3     82\n",
       "4     37\n",
       "5      8\n",
       "6      1\n",
       "Name: Tobacco, dtype: int64"
      ]
     },
     "execution_count": 35,
     "metadata": {},
     "output_type": "execute_result"
    }
   ],
   "source": [
    "new_data.Tobacco.value_counts()"
   ]
  },
  {
   "cell_type": "code",
   "execution_count": 36,
   "metadata": {},
   "outputs": [
    {
     "data": {
      "text/plain": [
       "(array([ 12.,  13.,  33.,  33.,  70., 207., 158., 296., 164., 109.]),\n",
       " array([ 93. ,  93.7,  94.4,  95.1,  95.8,  96.5,  97.2,  97.9,  98.6,\n",
       "         99.3, 100. ]),\n",
       " <BarContainer object of 10 artists>)"
      ]
     },
     "execution_count": 36,
     "metadata": {},
     "output_type": "execute_result"
    },
    {
     "data": {
      "image/png": "[encoded data removed]",
      "text/plain": [
       "<Figure size 432x288 with 1 Axes>"
      ]
     },
     "metadata": {
      "needs_background": "light"
     },
     "output_type": "display_data"
    }
   ],
   "source": [
    "plt.hist(new_data['Oxygen'])"
   ]
  },
  {
   "cell_type": "code",
   "execution_count": null,
   "metadata": {},
   "outputs": [],
   "source": []
  },
  {
   "cell_type": "code",
   "execution_count": null,
   "metadata": {},
   "outputs": [],
   "source": []
  },
  {
   "cell_type": "code",
   "execution_count": null,
   "metadata": {},
   "outputs": [],
   "source": []
  }
 ],
 "metadata": {
  "kernelspec": {
   "display_name": "Python 3",
   "language": "python",
   "name": "python3"
  },
  "language_info": {
   "codemirror_mode": {
    "name": "ipython",
    "version": 3
   },
   "file_extension": ".py",
   "mimetype": "text/x-python",
   "name": "python",
   "nbconvert_exporter": "python",
   "pygments_lexer": "ipython3",
   "version": "3.8.6"
  }
 },
 "nbformat": 4,
 "nbformat_minor": 4
}
